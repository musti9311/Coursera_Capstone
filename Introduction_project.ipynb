{
 "cells": [
  {
   "cell_type": "markdown",
   "id": "05106d8b",
   "metadata": {},
   "source": [
    "# Introduction to Week 4-5 Project of Applied Data Science Capstone"
   ]
  },
  {
   "cell_type": "markdown",
   "id": "c8f6f428",
   "metadata": {},
   "source": [
    "## Background Description"
   ]
  },
  {
   "cell_type": "markdown",
   "id": "c11762c8",
   "metadata": {},
   "source": [
    "Due to the COVID-19 pandemic , students are forced for studying at home but after this whole situation ends, a student is going to continue his/her studies at a University in Glasgow. So this problem belongs to all those students who want to go abroad(in this case Glasgow) for higher studies .The Student is interested in buying the cheapest house in Glasgow, Scotland, UK where he/she gets all kinds of restaurants and fast-food chains in vicinity which are the cheapest in town because he/she is bad at cooking and won't get much time to cook due to higher studies and part-time jobs. In our scenario, we will be exploring the cheapest houses in Glasgow, UK near the cheapest and many fast-food chains. We will recommend the perfect place with all the desired and required facilities."
   ]
  },
  {
   "cell_type": "markdown",
   "id": "4cea9601",
   "metadata": {},
   "source": [
    "## Problem Description"
   ]
  },
  {
   "cell_type": "markdown",
   "id": "82b8953f",
   "metadata": {},
   "source": [
    "#### Scenario\n",
    "We are low on cash due to admission fee payments and we are not selected for any part-time jobs yet. As a result, the business problem is where can we buy a suitable house in Glasgow, UK when we are having a housing boom which drives prices ever higher and when you don't even have time to cook. As a data scientist we will do a cluster of Glasgow neighborhoods to get the venues with the best prices and we will be looking for cheap nearby fast-food chains and other entertainment venues if possible. Here the use of Foursquare - an Api which provides most updated data regarding the places to visit , food junctions , daily needs availability will help providing a detailed view of the luxuries and facilities present in Glasgow. The use of Foursquare will simplify the huge task of viewing and extracting useful information regarding the best and cheapest facilities available."
   ]
  }
 ],
 "metadata": {
  "kernelspec": {
   "display_name": "Python 3",
   "language": "python",
   "name": "python3"
  },
  "language_info": {
   "codemirror_mode": {
    "name": "ipython",
    "version": 3
   },
   "file_extension": ".py",
   "mimetype": "text/x-python",
   "name": "python",
   "nbconvert_exporter": "python",
   "pygments_lexer": "ipython3",
   "version": "3.8.8"
  }
 },
 "nbformat": 4,
 "nbformat_minor": 5
}
