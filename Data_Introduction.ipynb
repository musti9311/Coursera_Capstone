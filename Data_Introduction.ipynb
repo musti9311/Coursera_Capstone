{
 "cells": [
  {
   "cell_type": "markdown",
   "id": "efef23c8",
   "metadata": {},
   "source": [
    "# Data Description"
   ]
  },
  {
   "cell_type": "markdown",
   "id": "ef02b994",
   "metadata": {},
   "source": [
    "For my analysis I will be using \"HM Land Registry\" of UK for 2020 where you can find records on the Price Paid Data and you can download it as .csv or .txt file. The following fields comprise the address data included in Price Paid Data:\n",
    "1.Postcode.\n",
    "2.PAON : Primary Addressable Object Name ( Typically the house number or name).\n",
    "3.SAON : Secondary Addressable Object Name ( If there is a sub-building, for example, the building is divided into flats, there will be a SAON.).\n",
    "4.Street.\n",
    "5.Locality.\n",
    "6.Town or City.\n",
    "7.District.\n",
    "8.County.\n",
    "I chose this data set as it is published by UK government. It has all the attributes regarding locality, Postcode that simplifies the search . I will also be accessing Foursquare Api for detailed facilities available at the various streets to provide a clear comparison. It will help in getting data for the fast food chains around the future property and when combining it with the price paid data per house to get the best property for our needs. This is the link to the site : [Price Paid Data Link](https://www.gov.uk/government/statistical-data-sets/price-paid-data-downloads) This is the link to the price data for the whole 2018 : [Price Data 2018](http://prod.publicdata.landregistry.gov.uk.s3-website-eu-west-1.amazonaws.com/pp-monthly-update-new-version.csv) . In the pricedata provided by above link the Postcode will be used to get Longitude and latitudes of the streets in Glasgow. Then using Foursquare we will check prices of varius Houses and explore restaurants available along with their categories."
   ]
  }
 ],
 "metadata": {
  "kernelspec": {
   "display_name": "Python 3",
   "language": "python",
   "name": "python3"
  },
  "language_info": {
   "codemirror_mode": {
    "name": "ipython",
    "version": 3
   },
   "file_extension": ".py",
   "mimetype": "text/x-python",
   "name": "python",
   "nbconvert_exporter": "python",
   "pygments_lexer": "ipython3",
   "version": "3.8.8"
  }
 },
 "nbformat": 4,
 "nbformat_minor": 5
}
